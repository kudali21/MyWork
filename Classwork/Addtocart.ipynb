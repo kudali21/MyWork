{
  "nbformat": 4,
  "nbformat_minor": 0,
  "metadata": {
    "colab": {
      "provenance": []
    },
    "kernelspec": {
      "name": "python3",
      "display_name": "Python 3"
    },
    "language_info": {
      "name": "python"
    }
  },
  "cells": [
    {
      "cell_type": "code",
      "source": [
        "products = {\n",
        "    \"Iphone\": 40000,\n",
        "    \"Laptop\": 85000,\n",
        "    \"Headphones\": 2500,\n",
        "    \"Smartwatch\": 7000,\n",
        "    \"Backpack\": 1500,\n",
        "    \"AC\": 30000,\n",
        "    \"Washing Machine\": 25000,\n",
        "    \"Mouse\": 800\n",
        "}\n",
        "\n",
        "pro = {\n",
        "    1: \"Iphone\",\n",
        "    2: \"Laptop\",\n",
        "    3: \"Headphones\",\n",
        "    4: \"Smartwatch\",\n",
        "    5: \"Backpack\",\n",
        "    6: \"AC\",\n",
        "    7: \"Washing Machine\",\n",
        "    8: \"Mouse\"\n",
        "}\n",
        "\n",
        "print(\"Available Products: \")\n",
        "i = 0\n",
        "for key, value in products.items():\n",
        "    i += 1\n",
        "    print(f'{i}. {key} - ₹{value}')\n",
        "\n",
        "print(\"\\nAdd items to your cart (Enter product numbers separated by spaces): \")\n",
        "n = list(map(int, input(\"Your Selection: \").split()))\n",
        "\n",
        "d = dict()\n",
        "for i in n:\n",
        "    if i in d:\n",
        "        d[i] += 1\n",
        "    else:\n",
        "        d[i] = 1\n",
        "\n",
        "print(\"\\nYour Shopping Cart:\")\n",
        "for key, value in d.items():\n",
        "    print(f'{pro[key]} x {value} = ₹{products[pro[key]] * value}')\n",
        "\n",
        "print(f'\\nTotal items in your cart: {len(n)}')\n",
        "print(f'Total Amount: ₹{sum(products[pro[key]] * value for key, value in d.items())}')\n"
      ],
      "metadata": {
        "colab": {
          "base_uri": "https://localhost:8080/"
        },
        "id": "RJPJnIOWFSl5",
        "outputId": "20ed01f7-e974-40ff-cdbf-f41b756a18d8"
      },
      "execution_count": null,
      "outputs": [
        {
          "output_type": "stream",
          "name": "stdout",
          "text": [
            "Available Products: \n",
            "1. Iphone - ₹40000\n",
            "2. Laptop - ₹85000\n",
            "3. Headphones - ₹2500\n",
            "4. Smartwatch - ₹7000\n",
            "5. Backpack - ₹1500\n",
            "6. AC - ₹30000\n",
            "7. Washing Machine - ₹25000\n",
            "8. Mouse - ₹800\n",
            "\n",
            "Add items to your cart (Enter product numbers separated by spaces): \n",
            "Your Selection: 1 1 1 2 3 \n",
            "\n",
            "Your Shopping Cart:\n",
            "Iphone x 3 = ₹120000\n",
            "Laptop x 1 = ₹85000\n",
            "Headphones x 1 = ₹2500\n",
            "\n",
            "Total items in your cart: 5\n",
            "Total Amount: ₹207500\n"
          ]
        }
      ]
    }
  ]
}